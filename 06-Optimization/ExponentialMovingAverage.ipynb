{
 "cells": [
  {
   "cell_type": "code",
   "execution_count": null,
   "id": "447b404d",
   "metadata": {},
   "outputs": [],
   "source": [
    "import torch\n",
    "\n",
    "import matplotlib.pyplot as plt\n",
    "from jupyterthemes import jtplot\n",
    "\n",
    "jtplot.style(context=\"talk\")"
   ]
  },
  {
   "cell_type": "markdown",
   "id": "16a80321",
   "metadata": {},
   "source": [
    "## Create a noisy signal"
   ]
  },
  {
   "cell_type": "code",
   "execution_count": null,
   "id": "42698d94",
   "metadata": {},
   "outputs": [],
   "source": [
    "x = torch.linspace(0, 10, 100)\n",
    "y = torch.sin(x) + torch.randn_like(x) * 0.5"
   ]
  },
  {
   "cell_type": "code",
   "execution_count": null,
   "id": "cf2e8a38",
   "metadata": {},
   "outputs": [],
   "source": [
    "_ = plt.plot(x, y)"
   ]
  },
  {
   "cell_type": "markdown",
   "id": "29acbf1e",
   "metadata": {},
   "source": [
    "## Windowing Average"
   ]
  },
  {
   "cell_type": "code",
   "execution_count": null,
   "id": "2eb2449b",
   "metadata": {
    "lines_to_next_cell": 2
   },
   "outputs": [],
   "source": [
    "wsize = 10\n",
    "vals = [0] * wsize\n",
    "\n",
    "y_smooth = []\n",
    "\n",
    "for i, yval in enumerate(y):\n",
    "    vals[i % len(vals)] = yval\n",
    "    # This can be optimized a bit\n",
    "    y_avg = sum(vals[:i+1]) / len(vals[:i+1])\n",
    "    y_smooth.append(y_avg)\n",
    "\n",
    "plt.plot(x, torch.sin(x), label=\"True\")\n",
    "plt.plot(x, y, label=\"Noisy\")\n",
    "plt.plot(x, y_smooth, label=f\"Size {wsize} Window\")\n",
    "_ = plt.legend()"
   ]
  },
  {
   "cell_type": "markdown",
   "id": "540ef137",
   "metadata": {},
   "source": [
    "## Exponential Moving Average (EMA)"
   ]
  },
  {
   "cell_type": "code",
   "execution_count": null,
   "id": "d12e3553",
   "metadata": {},
   "outputs": [],
   "source": [
    "y_ema = [y[0]]\n",
    "beta = 0.9\n",
    "\n",
    "for yval in y[1:]:\n",
    "    new_y_ema = beta * y_ema[-1] + (1 - beta) * yval\n",
    "    y_ema.append(new_y_ema)\n",
    "\n",
    "plt.plot(x, torch.sin(x), label=\"True\")\n",
    "plt.plot(x, y, label=\"Noisy\")\n",
    "plt.plot(x, y_ema, label=f\"EMA {beta:.2f}\")\n",
    "_ = plt.legend()"
   ]
  },
  {
   "cell_type": "markdown",
   "id": "9930c935",
   "metadata": {},
   "source": [
    "## EMA With Bias Correction"
   ]
  },
  {
   "cell_type": "code",
   "execution_count": null,
   "id": "1405ddd8",
   "metadata": {},
   "outputs": [],
   "source": [
    "y_ema_corrected = [0]\n",
    "beta = 0.9\n",
    "\n",
    "for t, yval in enumerate(y):\n",
    "    new_y_ema = beta * y_ema_corrected[-1] + (1 - beta) * yval\n",
    "    new_y_ema_t = new_y_ema / (1 - beta ** (t + 1))\n",
    "    y_ema_corrected.append(new_y_ema)\n",
    "\n",
    "plt.plot(x, torch.sin(x), label='True')\n",
    "plt.plot(x, y, label='Noisy')\n",
    "plt.plot(x, y_ema, label='EMA with Bias')\n",
    "plt.plot(x, y_ema_corrected[1:], label='EMA Corrected')\n",
    "_ = plt.legend()"
   ]
  },
  {
   "cell_type": "code",
   "execution_count": null,
   "id": "bff4b79f",
   "metadata": {},
   "outputs": [],
   "source": []
  }
 ],
 "metadata": {
  "jupytext": {
   "formats": "ipynb,py:percent"
  },
  "kernelspec": {
   "display_name": "Python3 (cs152)",
   "language": "python",
   "name": "cs152"
  },
  "language_info": {
   "codemirror_mode": {
    "name": "ipython",
    "version": 3
   },
   "file_extension": ".py",
   "mimetype": "text/x-python",
   "name": "python",
   "nbconvert_exporter": "python",
   "pygments_lexer": "ipython3",
   "version": "3.12.9"
  },
  "toc": {
   "base_numbering": 1,
   "nav_menu": {},
   "number_sections": true,
   "sideBar": true,
   "skip_h1_title": true,
   "title_cell": "Table of Contents",
   "title_sidebar": "Contents",
   "toc_cell": true,
   "toc_position": {},
   "toc_section_display": true,
   "toc_window_display": false
  },
  "vscode": {
   "interpreter": {
    "hash": "434e3f2d58e1385e0adb0e032cbe799909e99708e62ae45506af3a1338bb2ba8"
   }
  }
 },
 "nbformat": 4,
 "nbformat_minor": 5
}
